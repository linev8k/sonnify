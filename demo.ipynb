{
 "cells": [
  {
   "cell_type": "markdown",
   "metadata": {},
   "source": [
    "## Demonstration of Sonification Options"
   ]
  },
  {
   "cell_type": "markdown",
   "metadata": {},
   "source": [
    "### Imports"
   ]
  },
  {
   "cell_type": "code",
   "execution_count": 1,
   "metadata": {},
   "outputs": [],
   "source": [
    "import warnings\n",
    "warnings.filterwarnings('ignore')"
   ]
  },
  {
   "cell_type": "code",
   "execution_count": 2,
   "metadata": {
    "scrolled": true
   },
   "outputs": [],
   "source": [
    "from pyo import *\n",
    "from tensorflow import keras\n",
    "import time\n",
    "import numpy as np\n",
    "from pyo_callbacks import ListenToLoss\n",
    "from pyo_callbacks import WeightsDense\n",
    "import load_models"
   ]
  },
  {
   "cell_type": "markdown",
   "metadata": {},
   "source": [
    "### Prepare Data and Model"
   ]
  },
  {
   "cell_type": "code",
   "execution_count": 15,
   "metadata": {},
   "outputs": [],
   "source": [
    "x_train, y_train, _, _ = load_models.get_mnist_data()"
   ]
  },
  {
   "cell_type": "code",
   "execution_count": 16,
   "metadata": {},
   "outputs": [],
   "source": [
    "model = load_models.get_mnist_model()"
   ]
  },
  {
   "cell_type": "code",
   "execution_count": 17,
   "metadata": {},
   "outputs": [],
   "source": [
    "batch_size = 128\n",
    "epochs = 8\n",
    "model.compile(loss=\"categorical_crossentropy\", optimizer=\"adam\", metrics=[\"accuracy\"])"
   ]
  },
  {
   "cell_type": "markdown",
   "metadata": {},
   "source": [
    "#### If you want, make the data unbalanced, otherwise skip this cell"
   ]
  },
  {
   "cell_type": "code",
   "execution_count": 13,
   "metadata": {},
   "outputs": [
    {
     "data": {
      "text/plain": [
       "{0: 592, 1: 677, 2: 618, 3: 617, 4: 560, 5: 563, 6: 557, 7: 646, 8: 579, 9: 1}"
      ]
     },
     "execution_count": 13,
     "metadata": {},
     "output_type": "execute_result"
    }
   ],
   "source": [
    "#make data unbalanced\n",
    "\n",
    "sample = x_train[0]\n",
    "exclude = y_train[0]\n",
    "x_train = np.array([x for x, y in zip(x_train, y_train) if not np.array_equal(y, exclude)])\n",
    "y_train = np.array([y for y in y_train if not np.array_equal(y, exclude)])\n",
    "# print(x_train.shape)\n",
    "# print(y_train.shape)\n",
    "\n",
    "x_train = np.concatenate((x_train, sample.reshape((1,28,28,1))))\n",
    "# print(x_train.shape)\n",
    "y_train = np.concatenate((y_train, exclude.reshape((1,10))))\n",
    "# print(y_train.shape)\n",
    "\n",
    "labels = np.argmax(y_train, axis=1)\n",
    "\n",
    "unique, counts = np.unique(labels, return_counts=True)\n",
    "\n",
    "dict(zip(unique, counts))"
   ]
  },
  {
   "cell_type": "markdown",
   "metadata": {},
   "source": [
    "## Loss Sonification\n",
    "\n",
    "See `pyo_callbacks.py`"
   ]
  },
  {
   "cell_type": "code",
   "execution_count": 6,
   "metadata": {},
   "outputs": [
    {
     "name": "stdout",
     "output_type": "stream",
     "text": [
      "\n",
      "    Sonifies validation loss when run on epoch or training loss when run on batch.\n",
      "    Args:\n",
      "            hear_on: after each 'batch' or 'epoch'\n",
      "            min_freq, max_freq: range of frequency for sonification\n",
      "    \n"
     ]
    }
   ],
   "source": [
    "print(ListenToLoss.__doc__)"
   ]
  },
  {
   "cell_type": "code",
   "execution_count": 18,
   "metadata": {},
   "outputs": [
    {
     "name": "stdout",
     "output_type": "stream",
     "text": [
      "Pyo warning: Portmidi warning: no midi device found!\n",
      "Portmidi closed.\n",
      "Train on 5400 samples, validate on 600 samples\n",
      "Epoch 1/8\n",
      "5400/5400 [==============================] - 4s 665us/sample - loss: 1.5541 - acc: 0.5372 - val_loss: 0.5871 - val_acc: 0.8267\n",
      "Epoch 2/8\n",
      "5400/5400 [==============================] - 3s 546us/sample - loss: 0.5180 - acc: 0.8400 - val_loss: 0.3612 - val_acc: 0.8950\n",
      "Epoch 3/8\n",
      "5400/5400 [==============================] - 3s 535us/sample - loss: 0.3341 - acc: 0.8991 - val_loss: 0.2757 - val_acc: 0.9267\n",
      "Epoch 4/8\n",
      "5400/5400 [==============================] - 3s 552us/sample - loss: 0.2619 - acc: 0.9239 - val_loss: 0.2372 - val_acc: 0.9450\n",
      "Epoch 5/8\n",
      "5400/5400 [==============================] - 3s 548us/sample - loss: 0.2087 - acc: 0.9369 - val_loss: 0.1974 - val_acc: 0.9550\n",
      "Epoch 6/8\n",
      "5400/5400 [==============================] - 3s 542us/sample - loss: 0.1857 - acc: 0.9431 - val_loss: 0.1869 - val_acc: 0.9550\n",
      "Epoch 7/8\n",
      "5400/5400 [==============================] - 3s 557us/sample - loss: 0.1684 - acc: 0.9530 - val_loss: 0.1615 - val_acc: 0.9533\n",
      "Epoch 8/8\n",
      "5400/5400 [==============================] - 3s 536us/sample - loss: 0.1442 - acc: 0.9561 - val_loss: 0.1467 - val_acc: 0.9667\n",
      "Time:  25.25026798248291\n"
     ]
    }
   ],
   "source": [
    "start = time.time()\n",
    "\n",
    "#initiate server (cannot be done in Callback)\n",
    "s = Server().boot()\n",
    "s.amp = 0.2\n",
    "s.start()\n",
    "\n",
    "#save in audio file, if you want\n",
    "# path = './audio_files/'\n",
    "# s.recstart(path + 'batch_loss_adam.wav')\n",
    "\n",
    "model.fit(x_train, y_train, batch_size=batch_size, epochs=epochs, validation_split=0.1, \n",
    "          verbose=1, callbacks=[ListenToLoss(hear_on='batch', max_freq=500)])\n",
    "\n",
    "# s.recstop() #stop recording\n",
    "s.stop() #stop server\n",
    "\n",
    "end = time.time()\n",
    "print('Time: ', end-start)"
   ]
  },
  {
   "cell_type": "markdown",
   "metadata": {},
   "source": [
    "## Weights Sonification\n",
    "\n",
    "See `pyo_callbacks.py`"
   ]
  },
  {
   "cell_type": "code",
   "execution_count": 5,
   "metadata": {},
   "outputs": [
    {
     "name": "stdout",
     "output_type": "stream",
     "text": [
      "Sonifies the change of weights of a dense layer with as many streams as output neurons.\n",
      "    The weights are averaged for each neuron.\n",
      "    Frequency shifts after each epoch depend on how much the weights have changed during the last epoch.\n",
      "    Oscillations created with an LFO depend on the amount the weights deviate from 0.\n",
      "\n",
      "    Args:\n",
      "        which_layer: index of layer to sonify.\n",
      "        base_freq: Base frequency to build harmonics on. Should be rather low.\n",
      "        harmony: Chord for sound generation. Can be: major, minor, dim [diminished], 7th, min7th, maj7th\n",
      "    \n"
     ]
    }
   ],
   "source": [
    "print(WeightsDense.__doc__)"
   ]
  },
  {
   "cell_type": "code",
   "execution_count": 14,
   "metadata": {},
   "outputs": [
    {
     "name": "stdout",
     "output_type": "stream",
     "text": [
      "Pyo warning: Portmidi warning: no midi device found!\n",
      "Portmidi closed.\n",
      "Train on 4869 samples, validate on 541 samples\n",
      "Epoch 1/8\n",
      "4869/4869 [==============================] - 3s 590us/sample - loss: 1.4782 - acc: 0.5629 - val_loss: 0.5661 - val_acc: 0.8447\n",
      "Epoch 2/8\n",
      "4869/4869 [==============================] - 3s 580us/sample - loss: 0.4665 - acc: 0.8532 - val_loss: 0.3103 - val_acc: 0.9261\n",
      "Epoch 3/8\n",
      "4869/4869 [==============================] - 3s 583us/sample - loss: 0.2949 - acc: 0.9142 - val_loss: 0.2548 - val_acc: 0.9353\n",
      "Epoch 4/8\n",
      "4869/4869 [==============================] - 3s 584us/sample - loss: 0.2268 - acc: 0.9296 - val_loss: 0.2105 - val_acc: 0.9519\n",
      "Epoch 5/8\n",
      "4869/4869 [==============================] - 3s 558us/sample - loss: 0.1825 - acc: 0.9456 - val_loss: 0.2008 - val_acc: 0.9482\n",
      "Epoch 6/8\n",
      "4869/4869 [==============================] - 3s 603us/sample - loss: 0.1637 - acc: 0.9484 - val_loss: 0.1653 - val_acc: 0.9556\n",
      "Epoch 7/8\n",
      "4869/4869 [==============================] - 3s 552us/sample - loss: 0.1442 - acc: 0.9575 - val_loss: 0.1576 - val_acc: 0.9593\n",
      "Epoch 8/8\n",
      "4869/4869 [==============================] - 3s 598us/sample - loss: 0.1230 - acc: 0.9632 - val_loss: 0.1513 - val_acc: 0.9575\n",
      "Time:  23.882293939590454\n"
     ]
    }
   ],
   "source": [
    "start = time.time()\n",
    "\n",
    "s = Server().boot()\n",
    "s.amp=0.2\n",
    "s.start()\n",
    "\n",
    "#save in audio file, if you want\n",
    "# path = './audio_files/'\n",
    "# s.recstart(path + 'dense_weights_8_unbalanced.wav')\n",
    "\n",
    "model.fit(x_train, y_train, batch_size=batch_size, epochs=epochs, validation_split=0.1, \n",
    "          verbose=1, callbacks=[WeightsDense(base_freq=100, harmony='minor')])\n",
    "\n",
    "# s.recstop()\n",
    "s.stop()\n",
    "\n",
    "end = time.time()\n",
    "print('Time: ', end-start)"
   ]
  }
 ],
 "metadata": {
  "kernelspec": {
   "display_name": "sound",
   "language": "python",
   "name": "sound"
  },
  "language_info": {
   "codemirror_mode": {
    "name": "ipython",
    "version": 3
   },
   "file_extension": ".py",
   "mimetype": "text/x-python",
   "name": "python",
   "nbconvert_exporter": "python",
   "pygments_lexer": "ipython3",
   "version": "3.7.9"
  }
 },
 "nbformat": 4,
 "nbformat_minor": 2
}
