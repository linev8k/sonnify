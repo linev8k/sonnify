{
 "cells": [
  {
   "cell_type": "code",
   "execution_count": 1,
   "metadata": {},
   "outputs": [],
   "source": [
    "import warnings\n",
    "warnings.filterwarnings('ignore')"
   ]
  },
  {
   "cell_type": "code",
   "execution_count": 2,
   "metadata": {
    "scrolled": true
   },
   "outputs": [],
   "source": [
    "from pyo import *\n",
    "from tensorflow import keras\n",
    "import time\n",
    "import numpy as np"
   ]
  },
  {
   "cell_type": "code",
   "execution_count": 3,
   "metadata": {},
   "outputs": [],
   "source": [
    "from pyo_callbacks import ListenToLoss\n",
    "from pyo_callbacks import WeightsDense\n",
    "from pyo_callbacks import gen_harmonies\n",
    "import load_models"
   ]
  },
  {
   "cell_type": "code",
   "execution_count": 4,
   "metadata": {},
   "outputs": [],
   "source": [
    "x_train, y_train, _, _ = load_models.get_mnist_data()"
   ]
  },
  {
   "cell_type": "code",
   "execution_count": 10,
   "metadata": {},
   "outputs": [],
   "source": [
    "model = load_models.get_mnist_model()"
   ]
  },
  {
   "cell_type": "code",
   "execution_count": 11,
   "metadata": {},
   "outputs": [],
   "source": [
    "batch_size = 128\n",
    "epochs = 5\n",
    "model.compile(loss=\"categorical_crossentropy\", optimizer=\"rmsprop\", metrics=[\"accuracy\"])"
   ]
  },
  {
   "cell_type": "code",
   "execution_count": 17,
   "metadata": {},
   "outputs": [
    {
     "name": "stdout",
     "output_type": "stream",
     "text": [
      "(5409, 28, 28, 1)\n",
      "(5409, 10)\n",
      "(5410, 28, 28, 1)\n",
      "(5410, 10)\n"
     ]
    },
    {
     "data": {
      "text/plain": [
       "{0: 592, 1: 677, 2: 618, 3: 617, 4: 560, 5: 563, 6: 557, 7: 646, 8: 579, 9: 1}"
      ]
     },
     "execution_count": 17,
     "metadata": {},
     "output_type": "execute_result"
    }
   ],
   "source": [
    "#make data unbalanced\n",
    "\n",
    "sample = x_train[0]\n",
    "exclude = y_train[0]\n",
    "x_train = np.array([x for x, y in zip(x_train, y_train) if not np.array_equal(y, exclude)])\n",
    "y_train = np.array([y for y in y_train if not np.array_equal(y, exclude)])\n",
    "print(x_train.shape)\n",
    "print(y_train.shape)\n",
    "\n",
    "x_train = np.concatenate((x_train, sample.reshape((1,28,28,1))))\n",
    "print(x_train.shape)\n",
    "y_train = np.concatenate((y_train, exclude.reshape((1,10))))\n",
    "print(y_train.shape)\n",
    "\n",
    "labels = np.argmax(y_train, axis=1)\n",
    "\n",
    "unique, counts = np.unique(labels, return_counts=True)\n",
    "\n",
    "dict(zip(unique, counts))"
   ]
  },
  {
   "cell_type": "code",
   "execution_count": 7,
   "metadata": {},
   "outputs": [],
   "source": [
    "# model.fit(x_train, y_train, batch_size=batch_size, epochs=epochs, validation_split=0.1, \n",
    "#           verbose=0, callbacks=[keras.callbacks.TensorBoard(log_dir='./logs', write_images=True)])"
   ]
  },
  {
   "cell_type": "markdown",
   "metadata": {},
   "source": [
    "## Weights Sonification"
   ]
  },
  {
   "cell_type": "code",
   "execution_count": 18,
   "metadata": {},
   "outputs": [
    {
     "name": "stdout",
     "output_type": "stream",
     "text": [
      "Pyo warning: Portmidi warning: no midi device found!\n",
      "Portmidi closed.\n",
      "Train on 4869 samples, validate on 541 samples\n",
      "Epoch 1/8\n",
      "4869/4869 [==============================] - 3s 658us/sample - loss: 1.4149 - acc: 0.5703 - val_loss: 0.5299 - val_acc: 0.8614\n",
      "Epoch 2/8\n",
      "4869/4869 [==============================] - 3s 639us/sample - loss: 0.4644 - acc: 0.8525 - val_loss: 0.3290 - val_acc: 0.9224\n",
      "Epoch 3/8\n",
      "4869/4869 [==============================] - 3s 597us/sample - loss: 0.2976 - acc: 0.9092 - val_loss: 0.2619 - val_acc: 0.9279\n",
      "Epoch 4/8\n",
      "4869/4869 [==============================] - 3s 608us/sample - loss: 0.2373 - acc: 0.9293 - val_loss: 0.2277 - val_acc: 0.9372\n",
      "Epoch 5/8\n",
      "4869/4869 [==============================] - 3s 593us/sample - loss: 0.1832 - acc: 0.9421 - val_loss: 0.1994 - val_acc: 0.9445\n",
      "Epoch 6/8\n",
      "4869/4869 [==============================] - 3s 664us/sample - loss: 0.1612 - acc: 0.9509 - val_loss: 0.1749 - val_acc: 0.9556\n",
      "Epoch 7/8\n",
      "4869/4869 [==============================] - 3s 597us/sample - loss: 0.1445 - acc: 0.9573 - val_loss: 0.1801 - val_acc: 0.9482\n",
      "Epoch 8/8\n",
      "4869/4869 [==============================] - 3s 588us/sample - loss: 0.1285 - acc: 0.9608 - val_loss: 0.1448 - val_acc: 0.9686\n",
      "Time:  25.29720902442932\n"
     ]
    }
   ],
   "source": [
    "start = time.time()\n",
    "\n",
    "s = Server().boot()\n",
    "s.amp=0.2\n",
    "s.start()\n",
    "\n",
    "#save in audio file\n",
    "path = './audio_files/'\n",
    "s.recstart(path + 'dense_weights_8_unbalanced.wav')\n",
    "\n",
    "model.fit(x_train, y_train, batch_size=batch_size, epochs=epochs, validation_split=0.1, \n",
    "          verbose=1, callbacks=[WeightsDense()])\n",
    "\n",
    "s.recstop()\n",
    "s.stop()\n",
    "\n",
    "end = time.time()\n",
    "print('Time: ', end-start)"
   ]
  },
  {
   "cell_type": "markdown",
   "metadata": {},
   "source": [
    "## Loss Sonification"
   ]
  },
  {
   "cell_type": "code",
   "execution_count": 12,
   "metadata": {},
   "outputs": [
    {
     "name": "stdout",
     "output_type": "stream",
     "text": [
      "Pyo warning: Portmidi warning: no midi device found!\n",
      "Portmidi closed.\n",
      "Time:  17.016667127609253\n"
     ]
    }
   ],
   "source": [
    "start = time.time()\n",
    "\n",
    "#initiate server (cannot be done in Callback)\n",
    "s = Server().boot()\n",
    "s.amp = 0.2\n",
    "s.start()\n",
    "\n",
    "#save in audio file\n",
    "path = './audio_files/'\n",
    "s.recstart(path + 'batch_loss_rmsprop.wav')\n",
    "\n",
    "model.fit(x_train, y_train, batch_size=batch_size, epochs=epochs, validation_split=0.1, \n",
    "          verbose=1, callbacks=[ListenToLoss(hear_on='batch')])\n",
    "\n",
    "s.recstop()\n",
    "s.stop()\n",
    "\n",
    "end = time.time()\n",
    "print('Time: ', end-start)"
   ]
  },
  {
   "cell_type": "code",
   "execution_count": null,
   "metadata": {},
   "outputs": [],
   "source": []
  }
 ],
 "metadata": {
  "kernelspec": {
   "display_name": "sound",
   "language": "python",
   "name": "sound"
  },
  "language_info": {
   "codemirror_mode": {
    "name": "ipython",
    "version": 3
   },
   "file_extension": ".py",
   "mimetype": "text/x-python",
   "name": "python",
   "nbconvert_exporter": "python",
   "pygments_lexer": "ipython3",
   "version": "3.7.9"
  }
 },
 "nbformat": 4,
 "nbformat_minor": 2
}
