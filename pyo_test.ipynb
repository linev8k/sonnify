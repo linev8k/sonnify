{
 "cells": [
  {
   "cell_type": "code",
   "execution_count": 1,
   "metadata": {},
   "outputs": [],
   "source": [
    "from pyo import *\n",
    "import time"
   ]
  },
  {
   "cell_type": "code",
   "execution_count": 29,
   "metadata": {},
   "outputs": [],
   "source": [
    "# s.gui(locals())"
   ]
  },
  {
   "cell_type": "code",
   "execution_count": 7,
   "metadata": {},
   "outputs": [],
   "source": [
    "def play(server,seconds=3):\n",
    "    s.reinit()\n",
    "    s.start()    \n",
    "    time.sleep(seconds)\n",
    "    s.stop()"
   ]
  },
  {
   "cell_type": "code",
   "execution_count": 6,
   "metadata": {},
   "outputs": [
    {
     "name": "stdout",
     "output_type": "stream",
     "text": [
      "Pyo warning: Portmidi warning: no midi device found!\n",
      "Portmidi closed.\n"
     ]
    }
   ],
   "source": [
    "s = Server().boot()\n",
    "#dropping volume\n",
    "s.amp = 0.2"
   ]
  },
  {
   "cell_type": "code",
   "execution_count": 8,
   "metadata": {},
   "outputs": [],
   "source": [
    "s.start()\n",
    "#frequency modulation\n",
    "mod = Sine(freq=8)\n",
    "\n",
    "osc = Sine(freq=300, phase=0, add=0).out()\n",
    "time.sleep(1)\n",
    "osc.setFreq(350)\n",
    "time.sleep(1)\n",
    "s.stop()"
   ]
  },
  {
   "cell_type": "code",
   "execution_count": 3,
   "metadata": {},
   "outputs": [],
   "source": [
    "#envelope\n",
    "f = Adsr(attack=.01, decay=.2, sustain=.5, release=.1, dur=5, mul=.5)\n",
    "osc = Sine(freq=350, mul=f).out()\n",
    "f.play()\n",
    "\n",
    "s.start()\n",
    "time.sleep(5)\n",
    "s.stop()"
   ]
  },
  {
   "cell_type": "code",
   "execution_count": 6,
   "metadata": {},
   "outputs": [
    {
     "data": {
      "text/plain": [
       "<pyo.lib.server.Server at 0x7fc50a5f8e50>"
      ]
     },
     "execution_count": 6,
     "metadata": {},
     "output_type": "execute_result"
    }
   ],
   "source": [
    "osc = Sine(freq=[261.6, 523.2, 1046.4], mul=0.01).out()\n",
    "# osc = Sine(freq=[261.6, 600, 1046.4], mul=0.01).out()\n",
    "\n",
    "s.start()"
   ]
  },
  {
   "cell_type": "code",
   "execution_count": 7,
   "metadata": {},
   "outputs": [],
   "source": [
    "s.stop()"
   ]
  },
  {
   "cell_type": "code",
   "execution_count": 33,
   "metadata": {},
   "outputs": [
    {
     "name": "stdout",
     "output_type": "stream",
     "text": [
      "Pyo warning: Portmidi warning: no midi device found!\n",
      "Portmidi closed.\n"
     ]
    }
   ],
   "source": [
    "#several parallel processes\n",
    "s.reinit()\n",
    "s.amp=0.2\n",
    "a = Sine(freq=350)\n",
    "hr = Harmonizer(a).out()\n",
    "ch = Chorus(a).out()\n",
    "# sh = FreqShift(a).out()\n",
    "s.start()\n",
    "time.sleep(3)\n",
    "s.stop()"
   ]
  },
  {
   "cell_type": "code",
   "execution_count": 4,
   "metadata": {},
   "outputs": [],
   "source": [
    "s.reinit()\n",
    "s.amp=0.2\n",
    "\n",
    "a = Sine(freq=350).out()\n",
    "h1 = Harmonizer(a).out()\n",
    "h2 = Harmonizer(h1).out()\n",
    "h3 = Harmonizer(h2).out()\n",
    "s.start()\n",
    "time.sleep(3)\n",
    "s.stop()"
   ]
  },
  {
   "cell_type": "code",
   "execution_count": 42,
   "metadata": {},
   "outputs": [
    {
     "name": "stdout",
     "output_type": "stream",
     "text": [
      "Pyo warning: Portmidi warning: no midi device found!\n",
      "Portmidi closed.\n"
     ]
    }
   ],
   "source": [
    "s.reinit()\n",
    "s.amp = 0.1\n",
    "\n",
    "# Sets fundamental frequency\n",
    "freq = 200\n",
    "\n",
    "# Approximates a triangle waveform by adding odd harmonics with\n",
    "# amplitude proportional to the inverse square of the harmonic number.\n",
    "h1 = Sine(freq=freq, mul=1).out()\n",
    "h2 = Sine(freq=freq * 3, phase=0.5, mul=1.0 / pow(3, 2)).out()\n",
    "h3 = Sine(freq=freq * 5, mul=1.0 / pow(5, 2)).out()\n",
    "h4 = Sine(freq=freq * 7, phase=0.5, mul=1.0 / pow(7, 2)).out()\n",
    "h5 = Sine(freq=freq * 9, mul=1.0 / pow(9, 2)).out()\n",
    "h6 = Sine(freq=freq * 11, phase=0.5, mul=1.0 / pow(11, 2)).out()\n",
    "\n",
    "play(s)"
   ]
  },
  {
   "cell_type": "code",
   "execution_count": 22,
   "metadata": {},
   "outputs": [],
   "source": [
    "s.reinit()\n",
    "# The `mul` attribute multiplies each sample by its value.\n",
    "# a = Sine(freq=300, mul=0.1).out()\n",
    "\n",
    "# The `add` attribute adds an offset to each sample.\n",
    "# The multiplication is applied before the addition.\n",
    "# b = Sine(freq=300, mul=0.1, add=0.5).out()\n",
    "\n",
    "# Using the range(min, max) method allows to automatically\n",
    "# compute both `mul` and `add` attributes.\n",
    "c = Sine(freq=300).range(0.1, 0.7).out() #min and max values of output signal\n",
    "\n",
    "play(s)"
   ]
  },
  {
   "cell_type": "code",
   "execution_count": 21,
   "metadata": {},
   "outputs": [],
   "source": [
    "s.reinit()\n",
    "\n",
    "# Creates a noise source\n",
    "n = Noise()\n",
    "\n",
    "# Creates an LFO oscillating +/- 500 around 1000 (filter's frequency)\n",
    "lfo1 = Sine(freq=0.1, mul=500, add=1000)\n",
    "# Creates an LFO oscillating between 2 and 8 (filter's Q)\n",
    "lfo2 = Sine(freq=0.4).range(2, 8)\n",
    "# Creates a dynamic bandpass filter applied to the noise source\n",
    "bp1 = ButBP(n, freq=lfo1, q=lfo2).out()\n",
    "\n",
    "play(s)"
   ]
  },
  {
   "cell_type": "code",
   "execution_count": 155,
   "metadata": {},
   "outputs": [
    {
     "name": "stdout",
     "output_type": "stream",
     "text": [
      "Pyo warning: Server already started!\n"
     ]
    },
    {
     "data": {
      "text/plain": [
       "<pyo.lib.server.Server at 0x7fae671c3f10>"
      ]
     },
     "execution_count": 155,
     "metadata": {},
     "output_type": "execute_result"
    }
   ],
   "source": [
    "\n",
    "\n",
    "osc = Sine(freq=500, mul=2)\n",
    "lfo = LFO(freq=12/10, sharp=0.5, type=4, mul=500, add=500)\n",
    "bp2 = ButBP(osc, freq=lfo)\n",
    "# bp2 = ButBP(osc, freq=lfo).out()\n",
    "\n",
    "\n",
    "# b = FreqShift(bp2, shift=3, mul=3).out()\n",
    "b = FreqShift(bp2, shift=3, mul=3)\n",
    "\n",
    "s.start()\n",
    "\n",
    "# time.sleep(1)\n",
    "# b.setShift(0)\n",
    "# lfo.setFreq(5/10)"
   ]
  },
  {
   "cell_type": "code",
   "execution_count": 162,
   "metadata": {},
   "outputs": [
    {
     "name": "stdout",
     "output_type": "stream",
     "text": [
      "Pyo warning: Server already started!\n"
     ]
    }
   ],
   "source": [
    "s.start()\n",
    "t = HarmTable([1,0,.33,0,.2,0,.143,0,.111,0,.091])\n",
    "a = Osc(table=t, freq=[100,99.2]).out()"
   ]
  },
  {
   "cell_type": "code",
   "execution_count": 163,
   "metadata": {},
   "outputs": [],
   "source": [
    "s.stop()"
   ]
  },
  {
   "cell_type": "code",
   "execution_count": 78,
   "metadata": {},
   "outputs": [
    {
     "name": "stdout",
     "output_type": "stream",
     "text": [
      "Pyo warning: Portmidi warning: no midi device found!\n",
      "Portmidi closed.\n"
     ]
    }
   ],
   "source": [
    "s = Server().boot()\n",
    "s.start() \n",
    "a = SineLoop(freq=300, feedback=.1, mul=.3)\n",
    "lf1 = Sine(freq=.04, mul=10)\n",
    "lf2 = Sine(freq=.05, mul=10)\n",
    "b = FreqShift(a, shift=lf1, mul=.5).out()\n",
    "c = FreqShift(a, shift=lf2, mul=.5).out(1)"
   ]
  },
  {
   "cell_type": "code",
   "execution_count": 79,
   "metadata": {},
   "outputs": [],
   "source": [
    "s.stop()"
   ]
  },
  {
   "cell_type": "code",
   "execution_count": 55,
   "metadata": {},
   "outputs": [],
   "source": [
    "s.reinit()\n",
    "# Creates a noise source\n",
    "n = Noise()\n",
    "\n",
    "# The LFO object provides more waveforms than just a sine wave\n",
    "\n",
    "# Creates a ramp oscillating +/- 1000 around 12000 (filter's frequency)\n",
    "lfo3 = LFO(freq=0.25, type=1, mul=1000, add=1200)\n",
    "# Creates a square oscillating between 4 and 12 (filter's Q)\n",
    "lfo4 = LFO(freq=8, type=2).range(4, 12)\n",
    "# Creates a second dynamic bandpass filter applied to the noise source\n",
    "bp2 = ButBP(n, freq=lfo3, q=lfo4).out(1)\n",
    "\n",
    "play(s)"
   ]
  },
  {
   "cell_type": "code",
   "execution_count": 164,
   "metadata": {},
   "outputs": [
    {
     "name": "stdout",
     "output_type": "stream",
     "text": [
      "[100, 300, 500, 700, 900, 1100, 1300, 1500, 1700, 1900]\n",
      "10\n",
      "1\n"
     ]
    }
   ],
   "source": [
    "s.reinit()\n",
    "\n",
    "### Using multichannel-expansion to create a square wave ###\n",
    "\n",
    "# Sets fundamental frequency.\n",
    "freq = 100\n",
    "# Sets the highest harmonic.\n",
    "high = 20\n",
    "\n",
    "# Generates the list of harmonic frequencies (odd only).\n",
    "harms = [freq * i for i in range(1, high) if i % 2 == 1]\n",
    "print(harms)\n",
    "# Generates the list of harmonic amplitudes (1 / n).\n",
    "amps = [0.33 / i for i in range(1, high) if i % 2 == 1]\n",
    "\n",
    "# Creates all sine waves at once.\n",
    "a = Sine(freq=harms, mul=amps)\n",
    "# Prints the number of streams managed by \"a\".\n",
    "print(len(a))\n",
    "\n",
    "# The mix(voices) method (defined in PyoObject) mixes\n",
    "# the object streams into `voices` streams.\n",
    "b = a.mix(voices=1).out()\n",
    "\n",
    "print(len(b))\n",
    "\n",
    "play(s)"
   ]
  },
  {
   "cell_type": "code",
   "execution_count": 9,
   "metadata": {},
   "outputs": [],
   "source": [
    "s.reinit()\n",
    "\n",
    "# 12 streams with different combinations of `freq` and `ratio`.\n",
    "a = SumOsc(\n",
    "    freq=[100, 150.2, 200.5, 250.7],\n",
    "    ratio=[0.501, 0.753, 1.255],\n",
    "    index=[0.3, 0.4, 0.5, 0.6, 0.7, 0.4, 0.5, 0.3, 0.6, 0.7, 0.3, 0.5],\n",
    "    mul=0.05,\n",
    ")\n",
    "\n",
    "# Adds a stereo reverberation to the signal\n",
    "rev = Freeverb(a.mix(2), size=0.80, damp=0.70, bal=0.30).out()\n",
    "\n",
    "play(s)"
   ]
  },
  {
   "cell_type": "code",
   "execution_count": 94,
   "metadata": {},
   "outputs": [
    {
     "name": "stdout",
     "output_type": "stream",
     "text": [
      "Number of Sine streams: 10\n",
      "Number of Chorus streams: 2\n"
     ]
    }
   ],
   "source": [
    "#MIX DOWN TO LESS STREAMS (1 OR 2) TO RELEASE CPU POWER\n",
    "\n",
    "s.reinit()\n",
    "\n",
    "# Sets fundamental frequency and highest harmonic.\n",
    "freq = 100\n",
    "high = 20\n",
    "\n",
    "# Generates lists for frequencies and amplitudes\n",
    "harms = [freq * i for i in range(1, high) if i % 2 == 1]\n",
    "amps = [0.33 / i for i in range(1, high) if i % 2 == 1]\n",
    "\n",
    "# Creates a square wave by additive synthesis.\n",
    "a = Sine(freq=harms, mul=amps)\n",
    "print(\"Number of Sine streams: %d\" % len(a))\n",
    "\n",
    "# Mix down the number of streams of \"a\" before computing the Chorus.\n",
    "b = Chorus(a.mix(2), feedback=0.5).out()\n",
    "print(\"Number of Chorus streams: %d\" % len(b))\n",
    "\n",
    "#create recording\n",
    "path = '/Users/joceline/Documents/UNI/Semester3/Sonification/'\n",
    "s.recordOptions()\n",
    "s.recstart(path + 'rec_text.wav')\n",
    "s.start()\n",
    "time.sleep(3)\n",
    "s.recstop()\n",
    "s.stop()\n",
    "\n",
    "# play(s)"
   ]
  },
  {
   "cell_type": "code",
   "execution_count": null,
   "metadata": {},
   "outputs": [],
   "source": []
  }
 ],
 "metadata": {
  "kernelspec": {
   "display_name": "sound",
   "language": "python",
   "name": "sound"
  },
  "language_info": {
   "codemirror_mode": {
    "name": "ipython",
    "version": 3
   },
   "file_extension": ".py",
   "mimetype": "text/x-python",
   "name": "python",
   "nbconvert_exporter": "python",
   "pygments_lexer": "ipython3",
   "version": "3.7.9"
  }
 },
 "nbformat": 4,
 "nbformat_minor": 4
}
