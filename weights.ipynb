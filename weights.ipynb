{
 "cells": [
  {
   "cell_type": "code",
   "execution_count": 1,
   "metadata": {},
   "outputs": [],
   "source": [
    "import warnings\n",
    "warnings.filterwarnings('ignore')"
   ]
  },
  {
   "cell_type": "code",
   "execution_count": 2,
   "metadata": {
    "scrolled": true
   },
   "outputs": [],
   "source": [
    "from pyo import *\n",
    "from tensorflow import keras\n",
    "import time\n",
    "from pyo_callbacks import ListenToLoss\n",
    "import load_models\n",
    "import numpy as np"
   ]
  },
  {
   "cell_type": "code",
   "execution_count": 3,
   "metadata": {},
   "outputs": [],
   "source": [
    "from pyo_callbacks import WeightsDense"
   ]
  },
  {
   "cell_type": "code",
   "execution_count": 4,
   "metadata": {},
   "outputs": [],
   "source": [
    "x_train, y_train, x_test, y_test = load_models.get_mnist_data()"
   ]
  },
  {
   "cell_type": "code",
   "execution_count": 12,
   "metadata": {},
   "outputs": [
    {
     "name": "stdout",
     "output_type": "stream",
     "text": [
      "(5409, 28, 28, 1)\n",
      "(5409, 10)\n",
      "(5410, 28, 28, 1)\n",
      "(5410, 10)\n"
     ]
    },
    {
     "data": {
      "text/plain": [
       "{0: 592, 1: 677, 2: 618, 3: 617, 4: 560, 5: 563, 6: 557, 7: 646, 8: 579, 9: 1}"
      ]
     },
     "execution_count": 12,
     "metadata": {},
     "output_type": "execute_result"
    }
   ],
   "source": [
    "#make data unbalanced\n",
    "\n",
    "sample = x_train[0]\n",
    "exclude = y_train[0]\n",
    "x_train = np.array([x for x, y in zip(x_train, y_train) if not np.array_equal(y, exclude)])\n",
    "y_train = np.array([y for y in y_train if not np.array_equal(y, exclude)])\n",
    "print(x_train.shape)\n",
    "print(y_train.shape)\n",
    "\n",
    "x_train = np.concatenate((x_train, sample.reshape((1,28,28,1))))\n",
    "print(x_train.shape)\n",
    "y_train = np.concatenate((y_train, exclude.reshape((1,10))))\n",
    "print(y_train.shape)\n",
    "\n",
    "labels = np.argmax(y_train, axis=1)\n",
    "\n",
    "unique, counts = np.unique(labels, return_counts=True)\n",
    "\n",
    "dict(zip(unique, counts))"
   ]
  },
  {
   "cell_type": "code",
   "execution_count": 6,
   "metadata": {},
   "outputs": [
    {
     "name": "stdout",
     "output_type": "stream",
     "text": [
      "Model: \"sequential\"\n",
      "_________________________________________________________________\n",
      "Layer (type)                 Output Shape              Param #   \n",
      "=================================================================\n",
      "conv2d (Conv2D)              (None, 26, 26, 32)        320       \n",
      "_________________________________________________________________\n",
      "max_pooling2d (MaxPooling2D) (None, 13, 13, 32)        0         \n",
      "_________________________________________________________________\n",
      "conv2d_1 (Conv2D)            (None, 11, 11, 64)        18496     \n",
      "_________________________________________________________________\n",
      "max_pooling2d_1 (MaxPooling2 (None, 5, 5, 64)          0         \n",
      "_________________________________________________________________\n",
      "flatten (Flatten)            (None, 1600)              0         \n",
      "_________________________________________________________________\n",
      "dropout (Dropout)            (None, 1600)              0         \n",
      "_________________________________________________________________\n",
      "dense (Dense)                (None, 10)                16010     \n",
      "=================================================================\n",
      "Total params: 34,826\n",
      "Trainable params: 34,826\n",
      "Non-trainable params: 0\n",
      "_________________________________________________________________\n"
     ]
    }
   ],
   "source": [
    "model.summary()"
   ]
  },
  {
   "cell_type": "code",
   "execution_count": 5,
   "metadata": {},
   "outputs": [
    {
     "name": "stdout",
     "output_type": "stream",
     "text": [
      "WARNING:tensorflow:From /Users/joceline/anaconda3/envs/sound/lib/python3.7/site-packages/tensorflow/python/ops/init_ops.py:1251: calling VarianceScaling.__init__ (from tensorflow.python.ops.init_ops) with dtype is deprecated and will be removed in a future version.\n",
      "Instructions for updating:\n",
      "Call initializer instance with the dtype argument instead of passing it to the constructor\n"
     ]
    }
   ],
   "source": [
    "model = load_models.get_mnist_model()"
   ]
  },
  {
   "cell_type": "code",
   "execution_count": 6,
   "metadata": {},
   "outputs": [],
   "source": [
    "batch_size = 128\n",
    "epochs = 8\n",
    "\n",
    "model.compile(loss=\"categorical_crossentropy\", optimizer=\"adam\", metrics=[\"accuracy\"])"
   ]
  },
  {
   "cell_type": "code",
   "execution_count": 96,
   "metadata": {},
   "outputs": [],
   "source": [
    "#weights structure:\n",
    "\n",
    "#dense\n",
    "#list with two elements for weights and bias\n",
    "#weights: (inputsize x outputsize)\n",
    "#bias: (output size, )\n",
    "\n",
    "#conv\n",
    "#weights: (convsize, convsize, input channels, output channels)\n",
    "#bias: output channels"
   ]
  },
  {
   "cell_type": "code",
   "execution_count": 102,
   "metadata": {},
   "outputs": [],
   "source": [
    "class WeightsDense(keras.callbacks.Callback):\n",
    "\n",
    "    \"\"\"Sonifies the change of weights of a dense layer with as many streams as output neurons.\n",
    "    The weights are averaged for each neuron.\n",
    "    Frequency shifts after each epoch depend on how much the weights have changed during the last epoch.\n",
    "    Oscillations created with an LFO depend on the amount the weights deviate from 0.\n",
    "    \"\"\"\n",
    "\n",
    "    def __init__(self, which_layer=-1):\n",
    "\n",
    "        #define layer to be sonified\n",
    "        self.which_layer = which_layer\n",
    "\n",
    "    def on_train_begin(self, logs=None):\n",
    "\n",
    "        #get output size of model and generate harmonies respectively\n",
    "        streams = self.model.layers[-1].output_shape[self.which_layer]\n",
    "        harms = gen_harmonies(base_freq=200, ratio=[1,10,12,15,18], n_streams = streams)\n",
    "\n",
    "        #get initial weights of layer\n",
    "        init_weights = self.model.layers[self.which_layer].get_weights()[0]\n",
    "        self.init_weights_mean = np.mean(init_weights, axis=0)\n",
    "\n",
    "        #adjust lfo depending on deviation of mean from 0\n",
    "        self.deviation = np.absolute(self.init_weights_mean) * 200\n",
    "        self.lfo = LFO(freq=self.deviation.tolist(), type=1, mul=1000, add=1200)\n",
    "        self.osc = Sine(freq=harms, mul=0.5)\n",
    "        self.bp = ButBP(self.osc, freq=self.lfo)\n",
    "\n",
    "        #initialize frequency shifter with 0 shift\n",
    "        self.shift = FreqShift(self.bp, shift=0)\n",
    "        #mix channels for audio output\n",
    "        self.output = self.shift.mix(2).out()\n",
    "\n",
    "\n",
    "\n",
    "    def on_epoch_end(self, epoch, logs=None):\n",
    "\n",
    "        #get weights and mean of weights\n",
    "        weights = self.model.layers[-1].get_weights()\n",
    "#         print(weights[0])\n",
    "        self.weights_mean = np.mean(weights[0], axis=0)\n",
    "#         print(self.weights_mean)\n",
    "\n",
    "        #adjust lfo depending on deviation of mean to 0\n",
    "        self.deviation = np.absolute(self.weights_mean) * 200\n",
    "        self.lfo.setFreq(self.deviation.tolist())\n",
    "\n",
    "        #shift frequencies depending on how much weights differ from last epoch\n",
    "        change = self.weights_mean - self.init_weights_mean\n",
    "        shift_by = change*10000\n",
    "        self.shift.setShift(shift_by.tolist())\n",
    "\n",
    "        #remember weights for next epoch\n",
    "        self.init_weights_mean = self.weights_mean\n",
    "\n",
    "\n",
    "    def on_train_batch_begin(self, batch, logs=None):\n",
    "\n",
    "        delay_by = int(logs.get('size') * 0.2)\n",
    "        #leave some time until shifting back to harmonic frequencies\n",
    "        if batch == delay_by:\n",
    "            self.shift.setShift(0)\n",
    "        \n",
    "        \n",
    "        "
   ]
  },
  {
   "cell_type": "code",
   "execution_count": 7,
   "metadata": {},
   "outputs": [
    {
     "name": "stdout",
     "output_type": "stream",
     "text": [
      "Pyo warning: Portmidi warning: no midi device found!\n",
      "Portmidi closed.\n"
     ]
    }
   ],
   "source": [
    "s = Server().boot()\n",
    "s.amp=0.2\n",
    "s.start()\n",
    "\n",
    "model.fit(x_train, y_train, batch_size=batch_size, epochs=epochs, validation_split=0.1, \n",
    "          verbose=0, callbacks=[WeightsDense()])\n",
    "\n",
    "s.stop()"
   ]
  },
  {
   "cell_type": "code",
   "execution_count": 6,
   "metadata": {
    "scrolled": true
   },
   "outputs": [
    {
     "data": {
      "text/plain": [
       "<tensorflow.python.keras.callbacks.History at 0x7fa6aba21710>"
      ]
     },
     "execution_count": 6,
     "metadata": {},
     "output_type": "execute_result"
    }
   ],
   "source": [
    "#visualize with Tensorboard\n",
    "model.fit(x_train, y_train, batch_size=batch_size, epochs=epochs, validation_split=0.1, \n",
    "          verbose=0, callbacks=[keras.callbacks.TensorBoard(log_dir='./logs', histogram_freq=2, write_images=True)])"
   ]
  },
  {
   "cell_type": "code",
   "execution_count": 131,
   "metadata": {
    "scrolled": true
   },
   "outputs": [
    {
     "name": "stdout",
     "output_type": "stream",
     "text": [
      "10000/10000 [==============================] - 2s 214us/sample - loss: 0.1502 - acc: 0.9545\n",
      "[0.15021226827949286, 0.9545]\n"
     ]
    }
   ],
   "source": [
    "print(model.evaluate(x_test, y_test))"
   ]
  }
 ],
 "metadata": {
  "kernelspec": {
   "display_name": "sound",
   "language": "python",
   "name": "sound"
  },
  "language_info": {
   "codemirror_mode": {
    "name": "ipython",
    "version": 3
   },
   "file_extension": ".py",
   "mimetype": "text/x-python",
   "name": "python",
   "nbconvert_exporter": "python",
   "pygments_lexer": "ipython3",
   "version": "3.7.9"
  }
 },
 "nbformat": 4,
 "nbformat_minor": 2
}
